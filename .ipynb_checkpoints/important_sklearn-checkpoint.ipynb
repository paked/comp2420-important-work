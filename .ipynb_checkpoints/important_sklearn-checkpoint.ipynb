{
 "cells": [
  {
   "cell_type": "code",
   "execution_count": null,
   "metadata": {},
   "outputs": [],
   "source": [
    "# from sklearn.linear_model import LinearRegression\n",
    "# LinearRegression()\n",
    "\n",
    "# fit()\n",
    "# predict()\n",
    "# score() : coefficient of determination (R^2)\n",
    "# coef_ : estimated coefficients\n",
    "# intercept_ : estimated intercept"
   ]
  },
  {
   "cell_type": "code",
   "execution_count": null,
   "metadata": {},
   "outputs": [],
   "source": [
    "# from sklearn.tree import DecisionTreeClassifier\n",
    "# DecisionTreeClassifier()\n",
    "\n",
    "# fit()\n",
    "# predict()\n",
    "# score() : mean accuracy\n",
    "# apply() : index of the leaf that each sample is predicted as\n",
    "# decision_path() : the path of a tree\n",
    "# predict_proba() : class probabilities of each sample"
   ]
  },
  {
   "cell_type": "code",
   "execution_count": null,
   "metadata": {},
   "outputs": [],
   "source": [
    "# from sklearn.neighbors import KNearestNeighbors \n",
    "# KNearestNeighbors(n_neighbors=k)\n",
    "\n",
    "# fit()\n",
    "# predict()\n",
    "# score() : mean accuracy"
   ]
  },
  {
   "cell_type": "code",
   "execution_count": null,
   "metadata": {},
   "outputs": [],
   "source": [
    "# from sklearn.cluster import KMeans\n",
    "# KMeans(n_clusters=n)\n",
    "\n",
    "# fit()\n",
    "# predict()\n",
    "# score()\n",
    "# clusters_centers_ : location of centroids\n",
    "# labels_ : resultant labels for each observation\n",
    "# n_iter_ : number of iterations ran"
   ]
  },
  {
   "cell_type": "code",
   "execution_count": null,
   "metadata": {},
   "outputs": [],
   "source": [
    "# Regression Metrics\n",
    "\n",
    "# R^2 AKA coefficient of determination (default scoring function)\n",
    "# Meaning: proportion of the variance in the dependent variable that is predictable from the independent variable\n",
    "# How to read:\n",
    "\n",
    "# MAE (mean absolute error)\n",
    "# Meaning:\n",
    "# Best case:\n",
    "# Worst case:\n",
    "\n",
    "# MSE (mean squared error)\n",
    "# Meaning:\n",
    "# Best case:\n",
    "# Worst case:"
   ]
  },
  {
   "cell_type": "code",
   "execution_count": null,
   "metadata": {},
   "outputs": [],
   "source": [
    "# Clasification Metrics\n",
    "\n",
    "# Mean Accuracy (default scoring function)\n",
    "# Meaning:\n",
    "# Best case:\n",
    "# Worst case:\n",
    "\n",
    "# Balanced accuracy\n",
    "# sklearn.metrics.balanced_accuracy_score\n",
    "# Meaning: average of recall obtained on each class\n",
    "# Best case: 1\n",
    "# Worst case: 0\n",
    "\n",
    "# Precision\n",
    "\n",
    "# Recall\n",
    "\n",
    "# F1 (precision/recall)\n",
    "# Meaning: 2 * (precision * recall) / (precision + recall)\n",
    "# Best case:\n",
    "# Worst case:"
   ]
  }
 ],
 "metadata": {
  "kernelspec": {
   "display_name": "Python 3",
   "language": "python",
   "name": "python3"
  },
  "language_info": {
   "codemirror_mode": {
    "name": "ipython",
    "version": 3
   },
   "file_extension": ".py",
   "mimetype": "text/x-python",
   "name": "python",
   "nbconvert_exporter": "python",
   "pygments_lexer": "ipython3",
   "version": "3.7.1"
  }
 },
 "nbformat": 4,
 "nbformat_minor": 2
}
