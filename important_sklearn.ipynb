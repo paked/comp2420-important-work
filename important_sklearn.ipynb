{
 "cells": [
  {
   "cell_type": "code",
   "execution_count": 68,
   "metadata": {},
   "outputs": [],
   "source": [
    "from sklearn.datasets import load_iris, load_diabetes, make_blobs\n",
    "from sklearn.model_selection import train_test_split\n",
    "\n",
    "import matplotlib.pyplot as plt\n",
    "import pandas as pd\n",
    "\n",
    "# Load datasets\n",
    "iris = load_iris() # for classification\n",
    "iris_X = iris.data\n",
    "iris_y = iris.target\n",
    "\n",
    "diabetes = load_diabetes() # for regression\n",
    "diabetes_X = diabetes.data\n",
    "diabetes_y = diabetes.target\n",
    "\n",
    "blobs_X, blobs_y = make_blobs(n_samples=100)\n",
    "\n",
    "# Split datasets into train/test segments\n",
    "iris_X_train, iris_X_test, iris_y_train, iris_y_test = train_test_split(iris_X, iris_y)\n",
    "diabetes_X_train, diabetes_X_test, diabetes_y_train, diabetes_y_test = train_test_split(diabetes_X, diabetes_y)"
   ]
  },
  {
   "cell_type": "markdown",
   "metadata": {},
   "source": [
    "## LinearRegression\n",
    "- `fit(X, y)`\n",
    "- `predict(X)`\n",
    "- `score(X, y)`: coefficient of deterination (R^2 score)\n",
    "- `coef_`: estimated coefficients\n",
    "- `intercept_`: estimated intercept"
   ]
  },
  {
   "cell_type": "code",
   "execution_count": 18,
   "metadata": {},
   "outputs": [
    {
     "name": "stdout",
     "output_type": "stream",
     "text": [
      "R^2 score: 0.56355843410772\n",
      "Coefficients: [  15.76053779 -205.42776084  435.82112661  352.29191066 -851.79152798\n",
      "  544.15786596   76.1658256    40.72579541  872.55177925   77.25466769]\n",
      "Intercepts: 150.5847539765581\n"
     ]
    },
    {
     "data": {
      "text/html": [
       "<div>\n",
       "<style scoped>\n",
       "    .dataframe tbody tr th:only-of-type {\n",
       "        vertical-align: middle;\n",
       "    }\n",
       "\n",
       "    .dataframe tbody tr th {\n",
       "        vertical-align: top;\n",
       "    }\n",
       "\n",
       "    .dataframe thead th {\n",
       "        text-align: right;\n",
       "    }\n",
       "</style>\n",
       "<table border=\"1\" class=\"dataframe\">\n",
       "  <thead>\n",
       "    <tr style=\"text-align: right;\">\n",
       "      <th></th>\n",
       "      <th>Actual</th>\n",
       "      <th>Predicted</th>\n",
       "    </tr>\n",
       "  </thead>\n",
       "  <tbody>\n",
       "    <tr>\n",
       "      <th>0</th>\n",
       "      <td>68.0</td>\n",
       "      <td>123.415815</td>\n",
       "    </tr>\n",
       "    <tr>\n",
       "      <th>1</th>\n",
       "      <td>168.0</td>\n",
       "      <td>149.343764</td>\n",
       "    </tr>\n",
       "    <tr>\n",
       "      <th>2</th>\n",
       "      <td>84.0</td>\n",
       "      <td>94.139832</td>\n",
       "    </tr>\n",
       "    <tr>\n",
       "      <th>3</th>\n",
       "      <td>246.0</td>\n",
       "      <td>235.475006</td>\n",
       "    </tr>\n",
       "    <tr>\n",
       "      <th>4</th>\n",
       "      <td>164.0</td>\n",
       "      <td>186.384678</td>\n",
       "    </tr>\n",
       "  </tbody>\n",
       "</table>\n",
       "</div>"
      ],
      "text/plain": [
       "   Actual   Predicted\n",
       "0    68.0  123.415815\n",
       "1   168.0  149.343764\n",
       "2    84.0   94.139832\n",
       "3   246.0  235.475006\n",
       "4   164.0  186.384678"
      ]
     },
     "execution_count": 18,
     "metadata": {},
     "output_type": "execute_result"
    }
   ],
   "source": [
    "from sklearn.linear_model import LinearRegression\n",
    "\n",
    "# Setup model (init and train)\n",
    "lr = LinearRegression()\n",
    "lr.fit(diabetes_X_train, diabetes_y_train)\n",
    "\n",
    "print(\"R^2 score:\", lr.score(diabetes_X_test, diabetes_y_test))\n",
    "print(\"Coefficients:\", lr.coef_)\n",
    "print(\"Intercepts:\", lr.intercept_)\n",
    "\n",
    "y_pred = lr.predict(diabetes_X_test)\n",
    "\n",
    "pd.DataFrame({\n",
    "    'Actual': diabetes_y_test,\n",
    "    'Predicted': y_pred\n",
    "}).head()"
   ]
  },
  {
   "cell_type": "markdown",
   "metadata": {},
   "source": [
    "## DecisionTreeClassifier\n",
    "\n",
    "- `fit(X, y)`\n",
    "- `predict(X, y)`\n",
    "- `score(X, y)`\n",
    "- `apply(X)`\n",
    "- `decision_path(X)`\n",
    "- `predict_proba(X)`\n",
    "- `feature_importances_`\n",
    "- `get_n_leaves()`"
   ]
  },
  {
   "cell_type": "code",
   "execution_count": 56,
   "metadata": {},
   "outputs": [
    {
     "name": "stdout",
     "output_type": "stream",
     "text": [
      "Mean accuracy score: 0.8947368421052632\n",
      "Feature importances [0.02640264 0.         0.55662071 0.41697665]\n"
     ]
    },
    {
     "data": {
      "text/html": [
       "<div>\n",
       "<style scoped>\n",
       "    .dataframe tbody tr th:only-of-type {\n",
       "        vertical-align: middle;\n",
       "    }\n",
       "\n",
       "    .dataframe tbody tr th {\n",
       "        vertical-align: top;\n",
       "    }\n",
       "\n",
       "    .dataframe thead th {\n",
       "        text-align: right;\n",
       "    }\n",
       "</style>\n",
       "<table border=\"1\" class=\"dataframe\">\n",
       "  <thead>\n",
       "    <tr style=\"text-align: right;\">\n",
       "      <th></th>\n",
       "      <th>Actual</th>\n",
       "      <th>Predicted</th>\n",
       "    </tr>\n",
       "  </thead>\n",
       "  <tbody>\n",
       "    <tr>\n",
       "      <th>0</th>\n",
       "      <td>0</td>\n",
       "      <td>0</td>\n",
       "    </tr>\n",
       "    <tr>\n",
       "      <th>1</th>\n",
       "      <td>1</td>\n",
       "      <td>1</td>\n",
       "    </tr>\n",
       "    <tr>\n",
       "      <th>2</th>\n",
       "      <td>2</td>\n",
       "      <td>1</td>\n",
       "    </tr>\n",
       "    <tr>\n",
       "      <th>3</th>\n",
       "      <td>2</td>\n",
       "      <td>2</td>\n",
       "    </tr>\n",
       "    <tr>\n",
       "      <th>4</th>\n",
       "      <td>2</td>\n",
       "      <td>2</td>\n",
       "    </tr>\n",
       "  </tbody>\n",
       "</table>\n",
       "</div>"
      ],
      "text/plain": [
       "   Actual  Predicted\n",
       "0       0          0\n",
       "1       1          1\n",
       "2       2          1\n",
       "3       2          2\n",
       "4       2          2"
      ]
     },
     "execution_count": 56,
     "metadata": {},
     "output_type": "execute_result"
    }
   ],
   "source": [
    "from sklearn.tree import DecisionTreeClassifier\n",
    "from sklearn import tree\n",
    "dt = DecisionTreeClassifier()\n",
    "dt.fit(iris_X_train, iris_y_train)\n",
    "\n",
    "print(\"Mean accuracy score:\", dt.score(iris_X_test, iris_y_test))\n",
    "\n",
    "X_leaves = dt.apply(iris_X_test)\n",
    "decision_paths = dt.decision_path(iris_X_test)\n",
    "y_pred_proba = dt.predict_proba(iris_X_test)\n",
    "\n",
    "print (\"Feature importances\", dt.feature_importances_)\n",
    "\n",
    "y_pred = dt.predict(iris_X_test)\n",
    "pd.DataFrame({\n",
    "    \"Actual\": iris_y_test,\n",
    "    \"Predicted\": y_pred\n",
    "}).head()"
   ]
  },
  {
   "cell_type": "markdown",
   "metadata": {},
   "source": [
    "## KNeighborsClassifier\n",
    "\n",
    "- `fit(X, y)`\n",
    "- `predict(X, y)`\n",
    "- `score(X, y)`: mean accuracy score"
   ]
  },
  {
   "cell_type": "code",
   "execution_count": 66,
   "metadata": {},
   "outputs": [
    {
     "name": "stdout",
     "output_type": "stream",
     "text": [
      "Mean accuracy: 0.9473684210526315\n"
     ]
    },
    {
     "data": {
      "text/html": [
       "<div>\n",
       "<style scoped>\n",
       "    .dataframe tbody tr th:only-of-type {\n",
       "        vertical-align: middle;\n",
       "    }\n",
       "\n",
       "    .dataframe tbody tr th {\n",
       "        vertical-align: top;\n",
       "    }\n",
       "\n",
       "    .dataframe thead th {\n",
       "        text-align: right;\n",
       "    }\n",
       "</style>\n",
       "<table border=\"1\" class=\"dataframe\">\n",
       "  <thead>\n",
       "    <tr style=\"text-align: right;\">\n",
       "      <th></th>\n",
       "      <th>Actual</th>\n",
       "      <th>Predicted</th>\n",
       "    </tr>\n",
       "  </thead>\n",
       "  <tbody>\n",
       "    <tr>\n",
       "      <th>0</th>\n",
       "      <td>0</td>\n",
       "      <td>0</td>\n",
       "    </tr>\n",
       "    <tr>\n",
       "      <th>1</th>\n",
       "      <td>1</td>\n",
       "      <td>1</td>\n",
       "    </tr>\n",
       "    <tr>\n",
       "      <th>2</th>\n",
       "      <td>2</td>\n",
       "      <td>1</td>\n",
       "    </tr>\n",
       "    <tr>\n",
       "      <th>3</th>\n",
       "      <td>2</td>\n",
       "      <td>2</td>\n",
       "    </tr>\n",
       "    <tr>\n",
       "      <th>4</th>\n",
       "      <td>2</td>\n",
       "      <td>2</td>\n",
       "    </tr>\n",
       "  </tbody>\n",
       "</table>\n",
       "</div>"
      ],
      "text/plain": [
       "   Actual  Predicted\n",
       "0       0          0\n",
       "1       1          1\n",
       "2       2          1\n",
       "3       2          2\n",
       "4       2          2"
      ]
     },
     "execution_count": 66,
     "metadata": {},
     "output_type": "execute_result"
    }
   ],
   "source": [
    "from sklearn.neighbors import KNeighborsClassifier\n",
    "\n",
    "knn = KNeighborsClassifier(n_neighbors=5)\n",
    "knn.fit(iris_X_train, iris_y_train)\n",
    "\n",
    "print(\"Mean accuracy:\", knn.score(iris_X_test, iris_y_test))\n",
    "\n",
    "pd.DataFrame({\n",
    "    \"Actual\": iris_y_test,\n",
    "    \"Predicted\": knn.predict(iris_X_test)\n",
    "}).head()"
   ]
  },
  {
   "cell_type": "markdown",
   "metadata": {},
   "source": [
    "## KMeans\n",
    "\n",
    "- `KMeans(n_clusters=N)`\n",
    "- `predict(X)`\n",
    "- `score(X, y)`: (y is ignored)\n",
    "- `labels_`:\n",
    "- `cluster_centers_`: cluster centers(get x value by `[:, 0]`, and y by `[:, 1]`)"
   ]
  },
  {
   "cell_type": "code",
   "execution_count": 81,
   "metadata": {},
   "outputs": [
    {
     "name": "stdout",
     "output_type": "stream",
     "text": [
      "Accuracy score: -328.4369450185479\n",
      "Iterations: 1\n"
     ]
    },
    {
     "data": {
      "image/png": "[encoded data removed]",
      "text/plain": [
       "<Figure size 432x288 with 1 Axes>"
      ]
     },
     "metadata": {},
     "output_type": "display_data"
    }
   ],
   "source": [
    "from sklearn.cluster import KMeans\n",
    "\n",
    "kmeans = KMeans(n_clusters=2, random_state=100)\n",
    "kmeans.fit(blobs_X)\n",
    "\n",
    "print(\"Accuracy score:\", kmeans.score(blobs_X))\n",
    "print(\"Iterations:\", kmeans.n_iter_)\n",
    "\n",
    "plt.scatter(blobs_X[:,0], blobs_X[:,1], c=kmeans.labels_, cmap='rainbow')\n",
    "plt.scatter(kmeans.cluster_centers_[:, 0], kmeans.cluster_centers_[:, 1], c='black', s=200, alpha=0.5);"
   ]
  },
  {
   "cell_type": "markdown",
   "metadata": {},
   "source": [
    "# Regression Metrics\n",
    "\n",
    "## R^2 AKA coefficient of determination (default scoring function)\n",
    "Meaning: proportion of the variance in the dependent variable that is predictable from the independent variable\n",
    "How to read:\n",
    "\n",
    "## MAE (mean absolute error)\n",
    "Meaning:\n",
    "Best case:\n",
    "Worst case:\n",
    "\n",
    "## MSE (mean squared error)\n",
    "Meaning:\n",
    "Best case:\n",
    "Worst case:"
   ]
  },
  {
   "cell_type": "markdown",
   "metadata": {},
   "source": [
    "# Clasification Metrics\n",
    "\n",
    "## Mean Accuracy (default scoring function)\n",
    "Meaning:\n",
    "Best case:\n",
    "Worst case:\n",
    "\n",
    "# Balanced accuracy\n",
    "sklearn.metrics.balanced_accuracy_score\n",
    "Meaning: average of recall obtained on each class\n",
    "Best case: 1\n",
    "Worst case: 0\n",
    "\n",
    "## Precision\n",
    "\n",
    "## Recall\n",
    "\n",
    "## F1 (precision/recall)\n",
    "Meaning: 2 * (precision * recall) / (precision + recall)\n",
    "Best case:\n",
    "Worst case:\n",
    "\n",
    "classification_report"
   ]
  },
  {
   "cell_type": "code",
   "execution_count": null,
   "metadata": {},
   "outputs": [],
   "source": []
  }
 ],
 "metadata": {
  "kernelspec": {
   "display_name": "Python 3",
   "language": "python",
   "name": "python3"
  },
  "language_info": {
   "codemirror_mode": {
    "name": "ipython",
    "version": 3
   },
   "file_extension": ".py",
   "mimetype": "text/x-python",
   "name": "python",
   "nbconvert_exporter": "python",
   "pygments_lexer": "ipython3",
   "version": "3.6.8"
  }
 },
 "nbformat": 4,
 "nbformat_minor": 2
}
