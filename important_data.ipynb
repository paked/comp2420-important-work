{
 "cells": [
  {
   "cell_type": "markdown",
   "metadata": {},
   "source": [
    "# The Data Wall: COMP2420\n",
    "\n",
    "## Data Types\n",
    "\n",
    "- Nominal\n",
    "- Ordinal\n",
    "- Interval\n",
    "- Ratio\n",
    "\n",
    "\n",
    "## Basic plot types\n",
    "\n",
    "- 1D:\n",
    "- 2D: scatter, line plot, box and whisker, heatmap\n",
    "- 3D: scatter matrix, bubble chart\n",
    "\n",
    "## Machine Learning Notes\n",
    "\n",
    "- Improve on task T, with respect to performance metric P, based on experience E\n",
    "\n",
    "- Supervised Learning\n",
    "- Unsupervised Learning\n",
    "- Reinforcement learning\n",
    "\n",
    "- We generally assume that the training and test examples are independently drawn from the same overall distribution of data\n",
    "    - We call this “i.i.d:” which stands for “independent and identically distributed”\n",
    "\n",
    "- Metrics on a dataset is what we care about (performance)\n",
    "- We typically cannot directly optimize for the metrics\n",
    "- Our loss function should reflect the problem we are solving. We then hope it will yield models that will do well on our dataset."
   ]
  },
  {
   "cell_type": "code",
   "execution_count": null,
   "metadata": {},
   "outputs": [],
   "source": []
  }
 ],
 "metadata": {
  "kernelspec": {
   "display_name": "Python 3",
   "language": "python",
   "name": "python3"
  },
  "language_info": {
   "codemirror_mode": {
    "name": "ipython",
    "version": 3
   },
   "file_extension": ".py",
   "mimetype": "text/x-python",
   "name": "python",
   "nbconvert_exporter": "python",
   "pygments_lexer": "ipython3",
   "version": "3.7.1"
  }
 },
 "nbformat": 4,
 "nbformat_minor": 2
}
