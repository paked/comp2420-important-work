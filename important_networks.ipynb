{
 "cells": [
  {
   "cell_type": "markdown",
   "metadata": {},
   "source": [
    "# I don't even know anymore - COMP2420\n",
    "\n",
    "What is a network?\n",
    "\n",
    "What is a host?\n",
    "\n",
    "How do you identify a host?\n",
    "\n",
    "## Client server\n",
    "\n",
    "## Peer to peer\n",
    "\n",
    "## The Internet\n",
    "\n",
    "## Device to device\n",
    "\n",
    "## Different layers of the internet\n",
    "\n",
    "1. Application layer (HTTP, SMTP, DHCP, SSH, SIP, TLS/SSL, DNS, IMAP, POP)\n",
    "2. Transport layer (TCP or UDP)\n",
    "3. Internet layer (IP, IPsec)\n",
    "4. Link layer (ARP [address resolution protocol], MAC, PPP)\n",
    "\n",
    "## Network Types\n",
    "\n",
    "- PAN (Personal Area Network)\n",
    "- LAN (Local Area Network)\n",
    "- CAN (campus area network)\n",
    "- MAN (metropolitan area networks)\n",
    "- WAN (wide area networks)\n",
    "- Internetworks (connecting multiple types of networks together)\n",
    "\n",
    "## Routers\n",
    "\n",
    "## URL\n",
    "\n",
    "`scheme://domain:port/path?querystring#fragmentid`\n",
    "\n",
    "## Lifecycle of a HTTP request\n",
    "\n",
    "1. Web browser makes a DNS request for the IP of the server.\n",
    "2. The IP address is used to establish a HTTP connection between the browser and the server on port 80\n",
    "3. A HTTP \"GET\" request is made for the page represented by the URL\n",
    "4. The page is returned by the server as a HTTP response\n",
    "5. Additional resources are fetched\n",
    "6. The HTTP connection is closed and rendering begins\n",
    "\n",
    "## Security and Networks\n",
    "\n",
    "### Application Layer Security\n",
    "\n",
    "### Transport Layer Security - SSL\n",
    "\n",
    "#### SSL/TLS Handshake\n",
    "\n",
    "### IP Layer Security\n",
    "\n",
    "## VPNs"
   ]
  },
  {
   "cell_type": "code",
   "execution_count": null,
   "metadata": {},
   "outputs": [],
   "source": []
  }
 ],
 "metadata": {
  "kernelspec": {
   "display_name": "Python 3",
   "language": "python",
   "name": "python3"
  },
  "language_info": {
   "codemirror_mode": {
    "name": "ipython",
    "version": 3
   },
   "file_extension": ".py",
   "mimetype": "text/x-python",
   "name": "python",
   "nbconvert_exporter": "python",
   "pygments_lexer": "ipython3",
   "version": "3.6.8"
  }
 },
 "nbformat": 4,
 "nbformat_minor": 2
}
